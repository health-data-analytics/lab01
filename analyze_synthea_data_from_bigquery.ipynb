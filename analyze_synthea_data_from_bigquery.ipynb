{
 "cells": [
  {
   "cell_type": "code",
   "execution_count": null,
   "metadata": {},
   "outputs": [],
   "source": [
    "from google.cloud import bigquery\n",
    "\n",
    "client = bigquery.Client()\n",
    "\n",
    "encounters=\"\"\"\n",
    "SELECT\n",
    "    class.code as encounter_class,\n",
    "    period.start as start_timestamp,\n",
    "    period.end as end_timestamp, \n",
    "    TIMESTAMP_DIFF(period.end, period.start, HOUR) as length_of_stay_in_hours\n",
    "FROM \n",
    "    hc_dataset.Encounter\n",
    "WHERE\n",
    "    period.end >= period.start\n",
    "ORDER BY\n",
    "    4 DESC\n",
    "LIMIT 10\n",
    "\"\"\"\n",
    "df = client.query(encounters).to_dataframe()\n",
    "df.head()"
   ]
  },
  {
   "cell_type": "code",
   "execution_count": null,
   "metadata": {},
   "outputs": [],
   "source": [
    "query2=\"\"\"\n",
    "SELECT\n",
    "  cc.code loinc_code,\n",
    "  cc.display loinc_name,\n",
    "  approx_quantiles(round(o.valueQuantity.value,1),4) as quantiles,\n",
    "  count(*) as num_obs\n",
    "FROM\n",
    "  hc_dataset.Observation o, o.code.coding cc\n",
    "WHERE\n",
    "  cc.system like '%loinc%' and lower(cc.display) like '%cholesterol%'\n",
    "GROUP BY 1,2\n",
    "ORDER BY 4 desc\n",
    "\"\"\"\n",
    "df2 = client.query(query2).to_dataframe()\n",
    "df2.head()"
   ]
  },
  {
   "cell_type": "code",
   "execution_count": null,
   "metadata": {},
   "outputs": [],
   "source": [
    "query3=\"\"\"\n",
    "SELECT\n",
    "  encounter_class,\n",
    "  APPROX_QUANTILES(num_encounters, 4) num_encounters_quantiles\n",
    "FROM (\n",
    "  SELECT\n",
    "    class.code encounter_class,\n",
    "    subject.reference patient_id,\n",
    "    COUNT(DISTINCT id) AS num_encounters\n",
    "  FROM\n",
    "    hc_dataset.Encounter\n",
    "  GROUP BY\n",
    "    1,2\n",
    "  )\n",
    "GROUP BY 1\n",
    "ORDER BY 1\n",
    "\"\"\"\n",
    "df3 = client.query(query3).to_dataframe()\n",
    "df3.head()"
   ]
  },
  {
   "cell_type": "code",
   "execution_count": null,
   "metadata": {},
   "outputs": [],
   "source": [
    "query4=\"\"\"\n",
    "SELECT\n",
    "  class.code encounter_class,\n",
    "  ROUND(AVG(TIMESTAMP_DIFF(period.end, period.start, MINUTE)),1) as avg_minutes\n",
    "FROM\n",
    "  hc_dataset.Encounter\n",
    "WHERE\n",
    "  period.end >= period.start\n",
    "GROUP BY\n",
    "  1\n",
    "ORDER BY\n",
    "  2 DESC\n",
    "  \"\"\"\n",
    "df4 = client.query(query4).to_dataframe()\n",
    "df4.head()"
   ]
  },
  {
   "cell_type": "code",
   "execution_count": null,
   "metadata": {},
   "outputs": [],
   "source": [
    "df4.plot(kind='bar', x='encounter_class', y='avg_minutes');"
   ]
  },
  {
   "cell_type": "code",
   "execution_count": null,
   "metadata": {},
   "outputs": [],
   "source": []
  }
 ],
 "metadata": {
  "kernelspec": {
   "display_name": "Python 3",
   "language": "python",
   "name": "python3"
  },
  "language_info": {
   "codemirror_mode": {
    "name": "ipython",
    "version": 3
   },
   "file_extension": ".py",
   "mimetype": "text/x-python",
   "name": "python",
   "nbconvert_exporter": "python",
   "pygments_lexer": "ipython3",
   "version": "3.5.6"
  }
 },
 "nbformat": 4,
 "nbformat_minor": 2
}
