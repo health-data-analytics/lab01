{
 "cells": [
  {
   "cell_type": "code",
   "execution_count": 44,
   "metadata": {},
   "outputs": [
    {
     "data": {
      "text/html": [
       "<div>\n",
       "<style scoped>\n",
       "    .dataframe tbody tr th:only-of-type {\n",
       "        vertical-align: middle;\n",
       "    }\n",
       "\n",
       "    .dataframe tbody tr th {\n",
       "        vertical-align: top;\n",
       "    }\n",
       "\n",
       "    .dataframe thead th {\n",
       "        text-align: right;\n",
       "    }\n",
       "</style>\n",
       "<table border=\"1\" class=\"dataframe\">\n",
       "  <thead>\n",
       "    <tr style=\"text-align: right;\">\n",
       "      <th></th>\n",
       "      <th>encounter_class</th>\n",
       "      <th>end_timestamp</th>\n",
       "      <th>start_timestamp</th>\n",
       "      <th>length_of_stay_in_hours</th>\n",
       "    </tr>\n",
       "  </thead>\n",
       "  <tbody>\n",
       "    <tr>\n",
       "      <th>0</th>\n",
       "      <td>emergency</td>\n",
       "      <td>2017-06-28T15:55:28+00:00</td>\n",
       "      <td>1994-09-07T15:55:28+00:00</td>\n",
       "      <td>199920</td>\n",
       "    </tr>\n",
       "    <tr>\n",
       "      <th>1</th>\n",
       "      <td>emergency</td>\n",
       "      <td>2017-06-28T15:55:28+00:00</td>\n",
       "      <td>1994-09-07T15:55:28+00:00</td>\n",
       "      <td>199920</td>\n",
       "    </tr>\n",
       "    <tr>\n",
       "      <th>2</th>\n",
       "      <td>emergency</td>\n",
       "      <td>2017-06-28T15:55:28+00:00</td>\n",
       "      <td>1994-09-07T15:55:28+00:00</td>\n",
       "      <td>199920</td>\n",
       "    </tr>\n",
       "    <tr>\n",
       "      <th>3</th>\n",
       "      <td>ambulatory</td>\n",
       "      <td>2011-10-30T15:48:27+00:00</td>\n",
       "      <td>1999-06-27T15:48:27+00:00</td>\n",
       "      <td>108192</td>\n",
       "    </tr>\n",
       "    <tr>\n",
       "      <th>4</th>\n",
       "      <td>ambulatory</td>\n",
       "      <td>1992-06-22T22:33:27+00:00</td>\n",
       "      <td>1980-12-19T22:33:27+00:00</td>\n",
       "      <td>100872</td>\n",
       "    </tr>\n",
       "  </tbody>\n",
       "</table>\n",
       "</div>"
      ],
      "text/plain": [
       "  encounter_class              end_timestamp            start_timestamp  \\\n",
       "0       emergency  2017-06-28T15:55:28+00:00  1994-09-07T15:55:28+00:00   \n",
       "1       emergency  2017-06-28T15:55:28+00:00  1994-09-07T15:55:28+00:00   \n",
       "2       emergency  2017-06-28T15:55:28+00:00  1994-09-07T15:55:28+00:00   \n",
       "3      ambulatory  2011-10-30T15:48:27+00:00  1999-06-27T15:48:27+00:00   \n",
       "4      ambulatory  1992-06-22T22:33:27+00:00  1980-12-19T22:33:27+00:00   \n",
       "\n",
       "   length_of_stay_in_hours  \n",
       "0                   199920  \n",
       "1                   199920  \n",
       "2                   199920  \n",
       "3                   108192  \n",
       "4                   100872  "
      ]
     },
     "execution_count": 44,
     "metadata": {},
     "output_type": "execute_result"
    }
   ],
   "source": [
    "import matplotlib.pyplot as plt\n",
    "import google.datalab.bigquery as bq\n",
    "\n",
    "query1=\"\"\"\n",
    "SELECT\n",
    "  class.code encounter_class, period.end end_timestamp, period.start start_timestamp,\n",
    "  TIMESTAMP_DIFF(TIMESTAMP(period.end), TIMESTAMP(period.start), HOUR) as length_of_stay_in_hours\n",
    "FROM\n",
    "  synthea.Encounter\n",
    "WHERE\n",
    "  period.end >= period.start\n",
    "ORDER BY\n",
    "  4 DESC\n",
    "LIMIT 10\n",
    "\"\"\"\n",
    "\n",
    "df1 = bq.Query(query1).execute().result().to_dataframe()\n",
    "df1.head()"
   ]
  },
  {
   "cell_type": "code",
   "execution_count": 13,
   "metadata": {},
   "outputs": [
    {
     "data": {
      "text/html": [
       "<div>\n",
       "<style scoped>\n",
       "    .dataframe tbody tr th:only-of-type {\n",
       "        vertical-align: middle;\n",
       "    }\n",
       "\n",
       "    .dataframe tbody tr th {\n",
       "        vertical-align: top;\n",
       "    }\n",
       "\n",
       "    .dataframe thead th {\n",
       "        text-align: right;\n",
       "    }\n",
       "</style>\n",
       "<table border=\"1\" class=\"dataframe\">\n",
       "  <thead>\n",
       "    <tr style=\"text-align: right;\">\n",
       "      <th></th>\n",
       "      <th>loinc_code</th>\n",
       "      <th>loinc_name</th>\n",
       "      <th>quantiles</th>\n",
       "      <th>num_obs</th>\n",
       "    </tr>\n",
       "  </thead>\n",
       "  <tbody>\n",
       "    <tr>\n",
       "      <th>0</th>\n",
       "      <td>2085-9</td>\n",
       "      <td>High Density Lipoprotein Cholesterol</td>\n",
       "      <td>[6.5, 50.4, 63.9, 72.2, 80.0]</td>\n",
       "      <td>4645</td>\n",
       "    </tr>\n",
       "    <tr>\n",
       "      <th>1</th>\n",
       "      <td>2093-3</td>\n",
       "      <td>Total Cholesterol</td>\n",
       "      <td>[150.1, 171.3, 186.0, 201.9, 301.1]</td>\n",
       "      <td>4645</td>\n",
       "    </tr>\n",
       "    <tr>\n",
       "      <th>2</th>\n",
       "      <td>18262-6</td>\n",
       "      <td>Low Density Lipoprotein Cholesterol</td>\n",
       "      <td>[52.8, 81.7, 97.3, 125.6, 198.5]</td>\n",
       "      <td>4645</td>\n",
       "    </tr>\n",
       "  </tbody>\n",
       "</table>\n",
       "</div>"
      ],
      "text/plain": [
       "  loinc_code                            loinc_name  \\\n",
       "0     2085-9  High Density Lipoprotein Cholesterol   \n",
       "1     2093-3                     Total Cholesterol   \n",
       "2    18262-6   Low Density Lipoprotein Cholesterol   \n",
       "\n",
       "                             quantiles  num_obs  \n",
       "0        [6.5, 50.4, 63.9, 72.2, 80.0]     4645  \n",
       "1  [150.1, 171.3, 186.0, 201.9, 301.1]     4645  \n",
       "2     [52.8, 81.7, 97.3, 125.6, 198.5]     4645  "
      ]
     },
     "execution_count": 13,
     "metadata": {},
     "output_type": "execute_result"
    }
   ],
   "source": [
    "query2=\"\"\"\n",
    "SELECT\n",
    "  cc.code loinc_code,\n",
    "  cc.display loinc_name,\n",
    "  approx_quantiles(round(o.value.quantity.value,1),4) as quantiles,\n",
    "  count(*) as num_obs\n",
    "FROM\n",
    "  synthea.Observation o, o.code.coding cc\n",
    "WHERE\n",
    "  cc.system like '%loinc%' and lower(cc.display) like '%cholesterol%'\n",
    "GROUP BY 1,2\n",
    "ORDER BY 4 desc\n",
    "\"\"\"\n",
    "df2 = bq.Query(query2).execute().result().to_dataframe()\n",
    "df2.head()"
   ]
  },
  {
   "cell_type": "code",
   "execution_count": 41,
   "metadata": {},
   "outputs": [
    {
     "name": "stdout",
     "output_type": "stream",
     "text": [
      "+----+-------------------+----------------------------+\n",
      "|    | encounter_class   | num_encounters_quantiles   |\n",
      "|----+-------------------+----------------------------|\n",
      "|  0 | EMERGENCY         | [1, 1, 1, 2, 14]           |\n",
      "|  1 | URGENTCARE        | [1, 1, 1, 2, 148]          |\n",
      "|  2 | WELLNESS          | [2, 6, 10, 12, 94]         |\n",
      "|  3 | ambulatory        | [1, 3, 6, 13, 1346]        |\n",
      "|  4 | emergency         | [1, 1, 2, 3, 10]           |\n",
      "|  5 | inpatient         | [1, 1, 1, 3, 52]           |\n",
      "|  6 | outpatient        | [1, 2, 4, 10, 68]          |\n",
      "+----+-------------------+----------------------------+\n"
     ]
    }
   ],
   "source": [
    "from tabulate import tabulate\n",
    "query3=\"\"\"\n",
    "SELECT\n",
    "  encounter_class,\n",
    "  APPROX_QUANTILES(num_encounters, 4) num_encounters_quantiles\n",
    "FROM (\n",
    "  SELECT\n",
    "    class.code encounter_class,\n",
    "    subject.patientId patient_id,\n",
    "    COUNT(DISTINCT id) AS num_encounters\n",
    "  FROM\n",
    "    synthea.Encounter\n",
    "  GROUP BY\n",
    "    1,2\n",
    "  )\n",
    "GROUP BY 1\n",
    "ORDER BY 1\n",
    "\"\"\"\n",
    "df3 = bq.Query(query3).execute().result().to_dataframe()\n",
    "print(tabulate(df3, headers='keys', tablefmt='psql'))"
   ]
  },
  {
   "cell_type": "code",
   "execution_count": 38,
   "metadata": {},
   "outputs": [
    {
     "data": {
      "text/html": [
       "<div>\n",
       "<style scoped>\n",
       "    .dataframe tbody tr th:only-of-type {\n",
       "        vertical-align: middle;\n",
       "    }\n",
       "\n",
       "    .dataframe tbody tr th {\n",
       "        vertical-align: top;\n",
       "    }\n",
       "\n",
       "    .dataframe thead th {\n",
       "        text-align: right;\n",
       "    }\n",
       "</style>\n",
       "<table border=\"1\" class=\"dataframe\">\n",
       "  <thead>\n",
       "    <tr style=\"text-align: right;\">\n",
       "      <th></th>\n",
       "      <th>encounter_class</th>\n",
       "      <th>avg_minutes</th>\n",
       "    </tr>\n",
       "  </thead>\n",
       "  <tbody>\n",
       "    <tr>\n",
       "      <th>0</th>\n",
       "      <td>EMERGENCY</td>\n",
       "      <td>41659.8</td>\n",
       "    </tr>\n",
       "    <tr>\n",
       "      <th>1</th>\n",
       "      <td>emergency</td>\n",
       "      <td>21284.9</td>\n",
       "    </tr>\n",
       "    <tr>\n",
       "      <th>2</th>\n",
       "      <td>inpatient</td>\n",
       "      <td>1679.5</td>\n",
       "    </tr>\n",
       "    <tr>\n",
       "      <th>3</th>\n",
       "      <td>ambulatory</td>\n",
       "      <td>1087.3</td>\n",
       "    </tr>\n",
       "    <tr>\n",
       "      <th>4</th>\n",
       "      <td>outpatient</td>\n",
       "      <td>24.1</td>\n",
       "    </tr>\n",
       "  </tbody>\n",
       "</table>\n",
       "</div>"
      ],
      "text/plain": [
       "  encounter_class  avg_minutes\n",
       "0       EMERGENCY      41659.8\n",
       "1       emergency      21284.9\n",
       "2       inpatient       1679.5\n",
       "3      ambulatory       1087.3\n",
       "4      outpatient         24.1"
      ]
     },
     "execution_count": 38,
     "metadata": {},
     "output_type": "execute_result"
    }
   ],
   "source": [
    "query4=\"\"\"\n",
    "SELECT\n",
    "  class.code encounter_class,\n",
    "  ROUND(AVG(TIMESTAMP_DIFF(TIMESTAMP(period.end), TIMESTAMP(period.start), MINUTE)),1) as avg_minutes\n",
    "FROM\n",
    "  synthea.Encounter\n",
    "WHERE\n",
    "  period.end >= period.start\n",
    "GROUP BY\n",
    "  1\n",
    "ORDER BY\n",
    "  2 DESC\n",
    "  \"\"\"\n",
    "df4 = bq.Query(query4).execute().result().to_dataframe()\n"
   ]
  },
  {
   "cell_type": "code",
   "execution_count": 53,
   "metadata": {},
   "outputs": [
    {
     "data": {
      "image/png": "[encoded data removed]",
      "text/plain": [
       "<matplotlib.figure.Figure at 0x7f29d3adaf90>"
      ]
     },
     "metadata": {},
     "output_type": "display_data"
    }
   ],
   "source": [
    "df4.plot(kind='bar', x='encounter_class', y='avg_minutes');"
   ]
  },
  {
   "cell_type": "code",
   "execution_count": null,
   "metadata": {},
   "outputs": [],
   "source": []
  }
 ],
 "metadata": {
  "kernelspec": {
   "display_name": "Python 2",
   "language": "python",
   "name": "python2"
  },
  "language_info": {
   "codemirror_mode": {
    "name": "ipython",
    "version": 2
   },
   "file_extension": ".py",
   "mimetype": "text/x-python",
   "name": "python",
   "nbconvert_exporter": "python",
   "pygments_lexer": "ipython2",
   "version": "2.7.15"
  }
 },
 "nbformat": 4,
 "nbformat_minor": 2
}
